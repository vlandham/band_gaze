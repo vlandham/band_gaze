{
 "cells": [
  {
   "cell_type": "code",
   "execution_count": 1,
   "metadata": {
    "collapsed": true,
    "deletable": true,
    "editable": true
   },
   "outputs": [],
   "source": [
    "import sys\n",
    "import spotipy\n",
    "import spotipy.util as util"
   ]
  },
  {
   "cell_type": "code",
   "execution_count": 189,
   "metadata": {
    "collapsed": true,
    "deletable": true,
    "editable": true
   },
   "outputs": [],
   "source": [
    "import os\n",
    "import json\n",
    "import urllib.request"
   ]
  },
  {
   "cell_type": "markdown",
   "metadata": {
    "deletable": true,
    "editable": true
   },
   "source": [
    "## Auth\n",
    "\n",
    "Setup Authentication. I had to do this a few times during the cource of working with the Spotify API"
   ]
  },
  {
   "cell_type": "code",
   "execution_count": 10,
   "metadata": {
    "collapsed": false,
    "deletable": true,
    "editable": true
   },
   "outputs": [],
   "source": [
    "scope = 'user-library-read'\n"
   ]
  },
  {
   "cell_type": "code",
   "execution_count": 156,
   "metadata": {
    "collapsed": false,
    "deletable": true,
    "editable": true
   },
   "outputs": [
    {
     "data": {
      "text/plain": [
       "'BQDkiMoeVtt3Abq6-vUPZbS_aMbmoo3iv8Zfl5A6ghMZFPVpGuA9IVLnM_XGw1xs5kTvNFVWUe9sYROTyjSAVFYudQDwLmuEU39CVEzrkjuskV3g_eJRZWTcJtNjryHt8VGOBeum_p4-ELkDDDjuBvg'"
      ]
     },
     "execution_count": 156,
     "metadata": {},
     "output_type": "execute_result"
    }
   ],
   "source": [
    "CLIENT_ID = ''\n",
    "CLIENT_SECRET = ''\n",
    "\n",
    "util.prompt_for_user_token('vlandham4', scope, client_id = CLIENT_ID, client_secret = CLIENT_SECRET, redirect_uri = 'http://localhost/')"
   ]
  },
  {
   "cell_type": "code",
   "execution_count": 168,
   "metadata": {
    "collapsed": true,
    "deletable": true,
    "editable": true
   },
   "outputs": [],
   "source": [
    "\n",
    "# copy auth from above. Probably should be stored in a variable.\n",
    "sp = spotipy.Spotify(auth='BQDkiMoeVtt3Abq6-vUPZbS_aMbmoo3iv8Zfl5A6ghMZFPVpGuA9IVLnM_XGw1xs5kTvNFVWUe9sYROTyjSAVFYudQDwLmuEU39CVEzrkjuskV3g_eJRZWTcJtNjryHt8VGOBeum_p4-ELkDDDjuBvg')"
   ]
  },
  {
   "cell_type": "markdown",
   "metadata": {
    "deletable": true,
    "editable": true
   },
   "source": [
    "Check if authentication worked"
   ]
  },
  {
   "cell_type": "code",
   "execution_count": 16,
   "metadata": {
    "collapsed": false,
    "deletable": true,
    "editable": true
   },
   "outputs": [],
   "source": [
    "results = sp.current_user_saved_tracks()"
   ]
  },
  {
   "cell_type": "code",
   "execution_count": 18,
   "metadata": {
    "collapsed": false,
    "deletable": true,
    "editable": true
   },
   "outputs": [
    {
     "name": "stdout",
     "output_type": "stream",
     "text": [
      "Jet - Paul McCartney\n",
      "All Day All Night - River Whyless\n",
      "Constellation - Waterstrider\n",
      "From a Soon-to-Be Ghost Town - Fruit Bats\n",
      "Genevieve - Lucius\n",
      "Water Fountain - tUnE-yArDs\n",
      "Get Your Shit Together - Pillow Fight\n",
      "The Cause - Laura Gibson\n",
      "Dancing at the Blue Lagoon - Cayucas\n",
      "Get Low - Smooth Hound Smith\n",
      "Lazer Eyes - Teenage Love\n",
      "1986 (feat. MC Lyte) - Compass: Mexican Institute Of Sound + Toy Selectah\n",
      "Oh Sweet Nuthin' - Hollis Brown\n",
      "Edge of Town - Middle Kids\n",
      "Half Crazy - The Barr Brothers\n",
      "Melted Rainbow - Mr. Gnome\n",
      "Clay Pigeons - Michael Cera\n",
      "Breathe - ANIMA!\n",
      "Fruit Trees - Matthew E. White\n",
      "Out Of Pocket - Mayer Hawthorne\n"
     ]
    }
   ],
   "source": [
    "for item in results['items']:\n",
    "    track = item['track']\n",
    "    print(track['name'] + ' - ' + track['artists'][0]['name'])"
   ]
  },
  {
   "cell_type": "markdown",
   "metadata": {
    "deletable": true,
    "editable": true
   },
   "source": [
    "## Categories\n",
    "\n",
    "First, lets grab all the categories we can.\n",
    "\n",
    "Categories are the closest thing to Genre I could find"
   ]
  },
  {
   "cell_type": "code",
   "execution_count": 42,
   "metadata": {
    "collapsed": false,
    "deletable": true,
    "editable": true
   },
   "outputs": [],
   "source": [
    "offset = 0\n",
    "limit = 50\n",
    "allCats = []\n",
    "for i in range(2):\n",
    "    cats = sp.categories(limit = 50, offset = offset)\n",
    "    allCats.extend(cats['categories']['items'])\n",
    "    offset += limit"
   ]
  },
  {
   "cell_type": "code",
   "execution_count": 43,
   "metadata": {
    "collapsed": false,
    "deletable": true,
    "editable": true
   },
   "outputs": [
    {
     "data": {
      "text/plain": [
       "32"
      ]
     },
     "execution_count": 43,
     "metadata": {},
     "output_type": "execute_result"
    }
   ],
   "source": [
    "len(allCats)\n"
   ]
  },
  {
   "cell_type": "code",
   "execution_count": 44,
   "metadata": {
    "collapsed": false,
    "deletable": true,
    "editable": true
   },
   "outputs": [
    {
     "name": "stdout",
     "output_type": "stream",
     "text": [
      "Top Lists\n",
      "Mood\n",
      "Pop\n",
      "Trending\n",
      "Party\n",
      "Focus\n",
      "Rock\n",
      "Indie\n",
      "Electronic/Dance\n",
      "Chill\n",
      "Dinner\n",
      "Sleep\n",
      "Hip Hop\n",
      "Workout\n",
      "RnB\n",
      "Country\n",
      "Folk & Americana\n",
      "Metal\n",
      "Soul\n",
      "Travel\n",
      "Decades\n",
      "Jazz\n",
      "Blues\n",
      "Reggae\n",
      "Latino\n",
      "Punk\n",
      "Romance\n",
      "Funk\n",
      "Classical\n",
      "Comedy\n",
      "Kids\n",
      "Gaming\n"
     ]
    }
   ],
   "source": [
    "for cat in allCats:\n",
    "    print(cat['name'])\n",
    "\n"
   ]
  },
  {
   "cell_type": "markdown",
   "metadata": {
    "deletable": true,
    "editable": true
   },
   "source": [
    "Interesting that there are only 32. \n",
    "\n",
    "I'm not sure if there are more / different categories for other people - or what."
   ]
  },
  {
   "cell_type": "markdown",
   "metadata": {
    "deletable": true,
    "editable": true
   },
   "source": [
    "## Playlists\n",
    "\n",
    "Next we get playlists associated with each category."
   ]
  },
  {
   "cell_type": "code",
   "execution_count": 45,
   "metadata": {
    "collapsed": true,
    "deletable": true,
    "editable": true
   },
   "outputs": [],
   "source": [
    "def get_playlists(category):\n",
    "    all_playlists = []\n",
    "    # here we could expand the range\n",
    "    # or better, be smarter and see if \n",
    "    # the query has increased our playlist count\n",
    "    # and only stop when there are no more.\n",
    "    # \n",
    "    # for now, 100 playlists seems plenty. \n",
    "    for i in range(2):\n",
    "        limit = 50\n",
    "        offset = 0\n",
    "        playlists = sp.category_playlists(category_id = category['id'], limit = limit, offset = offset)    \n",
    "        all_playlists.extend(playlists['playlists']['items'])\n",
    "    return all_playlists\n",
    "\n",
    "\n",
    "\n"
   ]
  },
  {
   "cell_type": "code",
   "execution_count": 46,
   "metadata": {
    "collapsed": true,
    "deletable": true,
    "editable": true
   },
   "outputs": [],
   "source": [
    "playlists = get_playlists(allCats[0])"
   ]
  },
  {
   "cell_type": "code",
   "execution_count": 47,
   "metadata": {
    "collapsed": false,
    "deletable": true,
    "editable": true
   },
   "outputs": [
    {
     "data": {
      "text/plain": [
       "26"
      ]
     },
     "execution_count": 47,
     "metadata": {},
     "output_type": "execute_result"
    }
   ],
   "source": [
    "# we can see that not every category is \n",
    "# going to have 100 playlists\n",
    "len(playlists)"
   ]
  },
  {
   "cell_type": "code",
   "execution_count": 161,
   "metadata": {
    "collapsed": false,
    "deletable": true,
    "editable": true
   },
   "outputs": [
    {
     "data": {
      "text/plain": [
       "{'collaborative': False,\n",
       " 'external_urls': {'spotify': 'http://open.spotify.com/user/spotify/playlist/5FJXhjdILmRA2z5bvz4nzf'},\n",
       " 'href': 'https://api.spotify.com/v1/users/spotify/playlists/5FJXhjdILmRA2z5bvz4nzf',\n",
       " 'id': '5FJXhjdILmRA2z5bvz4nzf',\n",
       " 'images': [{'height': None,\n",
       "   'url': 'https://u.scdn.co/images/pl/default/4ac24e496cf8aa49b7354b5795713e3eb167ed76',\n",
       "   'width': None}],\n",
       " 'name': \"Today's Top Hits\",\n",
       " 'owner': {'external_urls': {'spotify': 'http://open.spotify.com/user/spotify'},\n",
       "  'href': 'https://api.spotify.com/v1/users/spotify',\n",
       "  'id': 'spotify',\n",
       "  'type': 'user',\n",
       "  'uri': 'spotify:user:spotify'},\n",
       " 'public': None,\n",
       " 'snapshot_id': '+lOZPvXyYolqPrA8SG4t309l3ElBSgP7KSPqj9ga4WWJHLaJvwpCcCnNbR0ujKca',\n",
       " 'tracks': {'href': 'https://api.spotify.com/v1/users/spotify/playlists/5FJXhjdILmRA2z5bvz4nzf/tracks',\n",
       "  'total': 50},\n",
       " 'type': 'playlist',\n",
       " 'uri': 'spotify:user:spotify:playlist:5FJXhjdILmRA2z5bvz4nzf'}"
      ]
     },
     "execution_count": 161,
     "metadata": {},
     "output_type": "execute_result"
    }
   ],
   "source": [
    "playlists[0]"
   ]
  },
  {
   "cell_type": "markdown",
   "metadata": {
    "deletable": true,
    "editable": true
   },
   "source": [
    "Get playlists for all categories. "
   ]
  },
  {
   "cell_type": "code",
   "execution_count": 49,
   "metadata": {
    "collapsed": true,
    "deletable": true,
    "editable": true
   },
   "outputs": [],
   "source": [
    "for cat in allCats:\n",
    "    cat['playlists'] = get_playlists(cat)"
   ]
  },
  {
   "cell_type": "code",
   "execution_count": 51,
   "metadata": {
    "collapsed": true,
    "deletable": true,
    "editable": true
   },
   "outputs": [],
   "source": [
    "with open('data/categories.json', 'w') as outfile:\n",
    "    json.dump(allCats, outfile)"
   ]
  },
  {
   "cell_type": "code",
   "execution_count": 54,
   "metadata": {
    "collapsed": false,
    "deletable": true,
    "editable": true
   },
   "outputs": [
    {
     "name": "stdout",
     "output_type": "stream",
     "text": [
      "Top Lists 26\n",
      "Mood 58\n",
      "Pop 28\n",
      "Trending 34\n",
      "Party 36\n",
      "Focus 30\n",
      "Rock 54\n",
      "Indie 50\n",
      "Electronic/Dance 100\n",
      "Chill 70\n",
      "Dinner 34\n",
      "Sleep 18\n",
      "Hip Hop 68\n",
      "Workout 50\n",
      "RnB 48\n",
      "Country 38\n",
      "Folk & Americana 38\n",
      "Metal 82\n",
      "Soul 30\n",
      "Travel 34\n",
      "Decades 36\n",
      "Jazz 52\n",
      "Blues 28\n",
      "Reggae 26\n",
      "Latino 100\n",
      "Punk 16\n",
      "Romance 46\n",
      "Funk 34\n",
      "Classical 100\n",
      "Comedy 12\n",
      "Kids 22\n",
      "Gaming 72\n"
     ]
    }
   ],
   "source": [
    "for cat in allCats:\n",
    "    print(cat['name'] + ' ' + str(len(cat['playlists'])))"
   ]
  },
  {
   "cell_type": "markdown",
   "metadata": {
    "deletable": true,
    "editable": true
   },
   "source": [
    "Exploring some of the features of a playlist"
   ]
  },
  {
   "cell_type": "code",
   "execution_count": 56,
   "metadata": {
    "collapsed": false,
    "deletable": true,
    "editable": true
   },
   "outputs": [],
   "source": [
    "playlist = allCats[0]['playlists'][0]"
   ]
  },
  {
   "cell_type": "code",
   "execution_count": 64,
   "metadata": {
    "collapsed": false,
    "deletable": true,
    "editable": true
   },
   "outputs": [
    {
     "data": {
      "text/plain": [
       "{'collaborative': False,\n",
       " 'external_urls': {'spotify': 'http://open.spotify.com/user/spotify/playlist/5FJXhjdILmRA2z5bvz4nzf'},\n",
       " 'href': 'https://api.spotify.com/v1/users/spotify/playlists/5FJXhjdILmRA2z5bvz4nzf',\n",
       " 'id': '5FJXhjdILmRA2z5bvz4nzf',\n",
       " 'images': [{'height': None,\n",
       "   'url': 'https://u.scdn.co/images/pl/default/4ac24e496cf8aa49b7354b5795713e3eb167ed76',\n",
       "   'width': None}],\n",
       " 'name': \"Today's Top Hits\",\n",
       " 'owner': {'external_urls': {'spotify': 'http://open.spotify.com/user/spotify'},\n",
       "  'href': 'https://api.spotify.com/v1/users/spotify',\n",
       "  'id': 'spotify',\n",
       "  'type': 'user',\n",
       "  'uri': 'spotify:user:spotify'},\n",
       " 'public': None,\n",
       " 'snapshot_id': '+lOZPvXyYolqPrA8SG4t309l3ElBSgP7KSPqj9ga4WWJHLaJvwpCcCnNbR0ujKca',\n",
       " 'tracks': {'href': 'https://api.spotify.com/v1/users/spotify/playlists/5FJXhjdILmRA2z5bvz4nzf/tracks',\n",
       "  'total': 50},\n",
       " 'type': 'playlist',\n",
       " 'uri': 'spotify:user:spotify:playlist:5FJXhjdILmRA2z5bvz4nzf'}"
      ]
     },
     "execution_count": 64,
     "metadata": {},
     "output_type": "execute_result"
    }
   ],
   "source": [
    "playlist"
   ]
  },
  {
   "cell_type": "code",
   "execution_count": 58,
   "metadata": {
    "collapsed": false,
    "deletable": true,
    "editable": true
   },
   "outputs": [
    {
     "data": {
      "text/plain": [
       "{'href': 'https://api.spotify.com/v1/users/spotify/playlists/5FJXhjdILmRA2z5bvz4nzf/tracks',\n",
       " 'total': 50}"
      ]
     },
     "execution_count": 58,
     "metadata": {},
     "output_type": "execute_result"
    }
   ],
   "source": [
    "playlist['tracks']"
   ]
  },
  {
   "cell_type": "code",
   "execution_count": 162,
   "metadata": {
    "collapsed": false,
    "deletable": true,
    "editable": true
   },
   "outputs": [],
   "source": [
    "# here i figure out how to get a playlists' tracks\n",
    "tracks = sp.user_playlist_tracks(playlist['owner']['id'], playlist['id'])\n"
   ]
  },
  {
   "cell_type": "code",
   "execution_count": 75,
   "metadata": {
    "collapsed": false,
    "deletable": true,
    "editable": true
   },
   "outputs": [
    {
     "data": {
      "text/plain": [
       "[{'external_urls': {'spotify': 'https://open.spotify.com/artist/1RyvyyTE3xzB2ZywiAwp0i'},\n",
       "  'href': 'https://api.spotify.com/v1/artists/1RyvyyTE3xzB2ZywiAwp0i',\n",
       "  'id': '1RyvyyTE3xzB2ZywiAwp0i',\n",
       "  'name': 'Future',\n",
       "  'type': 'artist',\n",
       "  'uri': 'spotify:artist:1RyvyyTE3xzB2ZywiAwp0i'},\n",
       " {'external_urls': {'spotify': 'https://open.spotify.com/artist/5pKCCKE2ajJHZ9KAiaK11H'},\n",
       "  'href': 'https://api.spotify.com/v1/artists/5pKCCKE2ajJHZ9KAiaK11H',\n",
       "  'id': '5pKCCKE2ajJHZ9KAiaK11H',\n",
       "  'name': 'Rihanna',\n",
       "  'type': 'artist',\n",
       "  'uri': 'spotify:artist:5pKCCKE2ajJHZ9KAiaK11H'}]"
      ]
     },
     "execution_count": 75,
     "metadata": {},
     "output_type": "execute_result"
    }
   ],
   "source": [
    "tracks['items'][0]['track']['artists']"
   ]
  },
  {
   "cell_type": "markdown",
   "metadata": {
    "deletable": true,
    "editable": true
   },
   "source": [
    "## Tracks and Artists\n",
    "\n",
    "Use what we've learned about playlists to pull out all the artists associated with the playlists"
   ]
  },
  {
   "cell_type": "code",
   "execution_count": 114,
   "metadata": {
    "collapsed": false,
    "deletable": true,
    "editable": true
   },
   "outputs": [],
   "source": [
    "def get_artists(playlist):\n",
    "    tracks = sp.user_playlist_tracks(playlist['owner']['id'], playlist['id'])\n",
    "    all_artists = []\n",
    "    if 'items' not in tracks:\n",
    "        print('NO TRACKS')\n",
    "        return []\n",
    "    for track in tracks['items']:\n",
    "        if track and 'track' in track and track['track'] and 'artists' in track['track']:\n",
    "            artists = track['track']['artists']\n",
    "            \n",
    "            for artist in artists:\n",
    "                all_artists.append(artist)\n",
    "    return all_artists\n",
    "            \n",
    "        \n",
    "    "
   ]
  },
  {
   "cell_type": "code",
   "execution_count": 115,
   "metadata": {
    "collapsed": false,
    "deletable": true,
    "editable": true
   },
   "outputs": [],
   "source": [
    "artists = get_artists(playlist)"
   ]
  },
  {
   "cell_type": "code",
   "execution_count": 163,
   "metadata": {
    "collapsed": false,
    "deletable": true,
    "editable": true
   },
   "outputs": [
    {
     "data": {
      "text/plain": [
       "{'external_urls': {'spotify': 'https://open.spotify.com/artist/2vDV0T8sxx2ENnKXds75e5'},\n",
       " 'href': 'https://api.spotify.com/v1/artists/2vDV0T8sxx2ENnKXds75e5',\n",
       " 'id': '2vDV0T8sxx2ENnKXds75e5',\n",
       " 'name': \"Booker T. & the M.G.'s\",\n",
       " 'type': 'artist',\n",
       " 'uri': 'spotify:artist:2vDV0T8sxx2ENnKXds75e5'}"
      ]
     },
     "execution_count": 163,
     "metadata": {},
     "output_type": "execute_result"
    }
   ],
   "source": [
    "\n",
    "artists[0]"
   ]
  },
  {
   "cell_type": "markdown",
   "metadata": {
    "deletable": true,
    "editable": true
   },
   "source": [
    "Get artists for all playlists"
   ]
  },
  {
   "cell_type": "code",
   "execution_count": 117,
   "metadata": {
    "collapsed": false,
    "deletable": true,
    "editable": true
   },
   "outputs": [],
   "source": [
    "for cat in allCats:\n",
    "    all_artists = []\n",
    "    for playlist in cat['playlists']:\n",
    "        artists = get_artists(playlist)\n",
    "        all_artists.extend(artists)\n",
    "    cat['artists'] = all_artists"
   ]
  },
  {
   "cell_type": "code",
   "execution_count": 118,
   "metadata": {
    "collapsed": true,
    "deletable": true,
    "editable": true
   },
   "outputs": [],
   "source": [
    "with open('data/artists.json', 'w') as outfile:\n",
    "    json.dump(allCats, outfile)"
   ]
  },
  {
   "cell_type": "code",
   "execution_count": 119,
   "metadata": {
    "collapsed": false,
    "deletable": true,
    "editable": true
   },
   "outputs": [
    {
     "name": "stdout",
     "output_type": "stream",
     "text": [
      "Top Lists 1862\n",
      "Mood 5182\n",
      "Pop 2730\n",
      "Trending 2624\n",
      "Party 3858\n",
      "Focus 2898\n",
      "Rock 4084\n",
      "Indie 3650\n",
      "Electronic/Dance 12974\n",
      "Chill 6154\n",
      "Dinner 2798\n",
      "Sleep 1316\n",
      "Hip Hop 5976\n",
      "Workout 5514\n",
      "RnB 3202\n",
      "Country 2362\n",
      "Folk & Americana 3482\n",
      "Metal 4656\n",
      "Soul 2058\n",
      "Travel 2352\n",
      "Decades 2626\n",
      "Jazz 3608\n",
      "Blues 1286\n",
      "Reggae 1698\n",
      "Latino 7778\n",
      "Punk 874\n",
      "Romance 4076\n",
      "Funk 2034\n",
      "Classical 17480\n",
      "Comedy 822\n",
      "Kids 1656\n",
      "Gaming 5742\n"
     ]
    }
   ],
   "source": [
    "for cat in allCats:\n",
    "    print(cat['name'] + ' ' + str(len(cat['artists'])))"
   ]
  },
  {
   "cell_type": "code",
   "execution_count": 120,
   "metadata": {
    "collapsed": false,
    "deletable": true,
    "editable": true
   },
   "outputs": [
    {
     "data": {
      "text/plain": [
       "{'external_urls': {'spotify': 'https://open.spotify.com/artist/1RyvyyTE3xzB2ZywiAwp0i'},\n",
       " 'href': 'https://api.spotify.com/v1/artists/1RyvyyTE3xzB2ZywiAwp0i',\n",
       " 'id': '1RyvyyTE3xzB2ZywiAwp0i',\n",
       " 'name': 'Future',\n",
       " 'type': 'artist',\n",
       " 'uri': 'spotify:artist:1RyvyyTE3xzB2ZywiAwp0i'}"
      ]
     },
     "execution_count": 120,
     "metadata": {},
     "output_type": "execute_result"
    }
   ],
   "source": [
    "allCats[0]['artists'][0]"
   ]
  },
  {
   "cell_type": "code",
   "execution_count": 121,
   "metadata": {
    "collapsed": true,
    "deletable": true,
    "editable": true
   },
   "outputs": [],
   "source": [
    "# pull out sublist of unique artist objects \n",
    "# from a list of artists\n",
    "def unique_artists(artists):\n",
    "    artist_ids = []\n",
    "    uniq_artists = []\n",
    "    for artist in artists:\n",
    "        if artist['id'] not in artist_ids:\n",
    "            uniq_artists.append(artist)\n",
    "            artist_ids.append(artist['id'])\n",
    "    return uniq_artists"
   ]
  },
  {
   "cell_type": "markdown",
   "metadata": {
    "deletable": true,
    "editable": true
   },
   "source": [
    "Compare unique artist count with raw artist count.\n",
    "\n",
    "\n",
    "we will use `uniq_artists` for the rest of the script"
   ]
  },
  {
   "cell_type": "code",
   "execution_count": 122,
   "metadata": {
    "collapsed": true,
    "deletable": true,
    "editable": true
   },
   "outputs": [],
   "source": [
    "for cat in allCats:\n",
    "    cat['uniq_artists'] = unique_artists(cat['artists'])"
   ]
  },
  {
   "cell_type": "code",
   "execution_count": 166,
   "metadata": {
    "collapsed": false,
    "deletable": true,
    "editable": true
   },
   "outputs": [
    {
     "name": "stdout",
     "output_type": "stream",
     "text": [
      "Top Lists -- all artists: 1862 unique artists: 544\n",
      "Mood -- all artists: 5182 unique artists: 1907\n",
      "Pop -- all artists: 2730 unique artists: 673\n",
      "Trending -- all artists: 2624 unique artists: 1000\n",
      "Party -- all artists: 3858 unique artists: 1113\n",
      "Focus -- all artists: 2898 unique artists: 852\n",
      "Rock -- all artists: 4084 unique artists: 1098\n",
      "Indie -- all artists: 3650 unique artists: 1172\n",
      "Electronic/Dance -- all artists: 12974 unique artists: 3330\n",
      "Chill -- all artists: 6154 unique artists: 2026\n",
      "Dinner -- all artists: 2798 unique artists: 947\n",
      "Sleep -- all artists: 1316 unique artists: 297\n",
      "Hip Hop -- all artists: 5976 unique artists: 1213\n",
      "Workout -- all artists: 5514 unique artists: 1500\n",
      "RnB -- all artists: 3202 unique artists: 690\n",
      "Country -- all artists: 2362 unique artists: 443\n",
      "Folk & Americana -- all artists: 3482 unique artists: 1044\n",
      "Metal -- all artists: 4656 unique artists: 1209\n",
      "Soul -- all artists: 2058 unique artists: 711\n",
      "Travel -- all artists: 2352 unique artists: 873\n",
      "Decades -- all artists: 2626 unique artists: 788\n",
      "Jazz -- all artists: 3608 unique artists: 900\n",
      "Blues -- all artists: 1286 unique artists: 378\n",
      "Reggae -- all artists: 1698 unique artists: 461\n",
      "Latino -- all artists: 7778 unique artists: 1058\n",
      "Punk -- all artists: 874 unique artists: 268\n",
      "Romance -- all artists: 4076 unique artists: 1363\n",
      "Funk -- all artists: 2034 unique artists: 608\n",
      "Classical -- all artists: 17480 unique artists: 3784\n",
      "Comedy -- all artists: 822 unique artists: 108\n",
      "Kids -- all artists: 1656 unique artists: 473\n",
      "Gaming -- all artists: 5742 unique artists: 1945\n"
     ]
    }
   ],
   "source": [
    "for cat in allCats:\n",
    "    print(cat['name'] + ' -- all artists: ' + str(len(cat['artists'])) + ' unique artists: ' + str(len(cat['uniq_artists'])))"
   ]
  },
  {
   "cell_type": "markdown",
   "metadata": {
    "deletable": true,
    "editable": true
   },
   "source": [
    "## Artist Details\n",
    "\n",
    "Finally, we can pull down the artist details for each category.\n",
    "\n",
    "Since the `artists` API call can handle a max of 50 artist ids, we chunk up IDs."
   ]
  },
  {
   "cell_type": "code",
   "execution_count": 126,
   "metadata": {
    "collapsed": true,
    "deletable": true,
    "editable": true
   },
   "outputs": [],
   "source": [
    "# http://stackoverflow.com/questions/312443/how-do-you-split-a-list-into-evenly-sized-chunks\n",
    "def chunks(l, n):\n",
    "    \"\"\"Yield successive n-sized chunks from l.\"\"\"\n",
    "    for i in range(0, len(l), n):\n",
    "        yield l[i:i + n]"
   ]
  },
  {
   "cell_type": "code",
   "execution_count": 154,
   "metadata": {
    "collapsed": false,
    "deletable": true,
    "editable": true
   },
   "outputs": [],
   "source": [
    "def chunk_artists(artists):\n",
    "    c = list(chunks(artists, 50))\n",
    "    return c\n",
    "\n",
    "def get_artist_details(artists):\n",
    "    artist_chunks = chunk_artists(artists)\n",
    "    all_details = []\n",
    "    print(len(artists))\n",
    "    for artist_chunk in artist_chunks:\n",
    "        #print(len(artist_chunk))\n",
    "        artist_ids = [a['id'] for a in artist_chunk if a['id'] is not None]\n",
    "        \n",
    "\n",
    "        deets = sp.artists(artist_ids)\n",
    "        all_details.extend(deets['artists'])\n",
    "        \n",
    "    return all_details\n",
    "        "
   ]
  },
  {
   "cell_type": "code",
   "execution_count": 170,
   "metadata": {
    "collapsed": false,
    "deletable": true,
    "editable": true
   },
   "outputs": [
    {
     "name": "stdout",
     "output_type": "stream",
     "text": [
      "544\n"
     ]
    }
   ],
   "source": [
    "deets = get_artist_details(allCats[0]['uniq_artists'])\n",
    "\n"
   ]
  },
  {
   "cell_type": "code",
   "execution_count": 171,
   "metadata": {
    "collapsed": false,
    "deletable": true,
    "editable": true
   },
   "outputs": [
    {
     "data": {
      "text/plain": [
       "{'external_urls': {'spotify': 'https://open.spotify.com/artist/1RyvyyTE3xzB2ZywiAwp0i'},\n",
       " 'followers': {'href': None, 'total': 2393953},\n",
       " 'genres': ['dwn trap', 'pop rap', 'rap', 'southern hip hop', 'trap music'],\n",
       " 'href': 'https://api.spotify.com/v1/artists/1RyvyyTE3xzB2ZywiAwp0i',\n",
       " 'id': '1RyvyyTE3xzB2ZywiAwp0i',\n",
       " 'images': [{'height': 640,\n",
       "   'url': 'https://i.scdn.co/image/73fe3d7939e5bf6f37bebc523b8d5b9df2989e6f',\n",
       "   'width': 640},\n",
       "  {'height': 320,\n",
       "   'url': 'https://i.scdn.co/image/b9116e3539344bfe22c360facb6b42741c5ab9dc',\n",
       "   'width': 320},\n",
       "  {'height': 160,\n",
       "   'url': 'https://i.scdn.co/image/6aab6547fff2b64e9a36d99544d6e6c2e921acf8',\n",
       "   'width': 160}],\n",
       " 'name': 'Future',\n",
       " 'popularity': 93,\n",
       " 'type': 'artist',\n",
       " 'uri': 'spotify:artist:1RyvyyTE3xzB2ZywiAwp0i'}"
      ]
     },
     "execution_count": 171,
     "metadata": {},
     "output_type": "execute_result"
    }
   ],
   "source": [
    "deets[0]"
   ]
  },
  {
   "cell_type": "code",
   "execution_count": 158,
   "metadata": {
    "collapsed": false,
    "deletable": true,
    "editable": true
   },
   "outputs": [
    {
     "name": "stdout",
     "output_type": "stream",
     "text": [
      "1058\n",
      "268\n",
      "1363\n",
      "608\n",
      "3784\n",
      "108\n",
      "473\n",
      "1945\n"
     ]
    }
   ],
   "source": [
    "for cat in allCats:\n",
    "    if 'artist_details' not in cat:\n",
    "        cat['artist_details'] = get_artist_details(cat['uniq_artists'])"
   ]
  },
  {
   "cell_type": "code",
   "execution_count": 167,
   "metadata": {
    "collapsed": false,
    "deletable": true,
    "editable": true
   },
   "outputs": [
    {
     "name": "stdout",
     "output_type": "stream",
     "text": [
      "Top Lists -- artist details: 544 uniq artists: 544\n",
      "Mood -- artist details: 1907 uniq artists: 1907\n",
      "Pop -- artist details: 672 uniq artists: 673\n",
      "Trending -- artist details: 1000 uniq artists: 1000\n",
      "Party -- artist details: 1112 uniq artists: 1113\n",
      "Focus -- artist details: 852 uniq artists: 852\n",
      "Rock -- artist details: 1098 uniq artists: 1098\n",
      "Indie -- artist details: 1172 uniq artists: 1172\n",
      "Electronic/Dance -- artist details: 3330 uniq artists: 3330\n",
      "Chill -- artist details: 2026 uniq artists: 2026\n",
      "Dinner -- artist details: 947 uniq artists: 947\n",
      "Sleep -- artist details: 297 uniq artists: 297\n",
      "Hip Hop -- artist details: 1213 uniq artists: 1213\n",
      "Workout -- artist details: 1500 uniq artists: 1500\n",
      "RnB -- artist details: 690 uniq artists: 690\n",
      "Country -- artist details: 443 uniq artists: 443\n",
      "Folk & Americana -- artist details: 1044 uniq artists: 1044\n",
      "Metal -- artist details: 1209 uniq artists: 1209\n",
      "Soul -- artist details: 711 uniq artists: 711\n",
      "Travel -- artist details: 872 uniq artists: 873\n",
      "Decades -- artist details: 788 uniq artists: 788\n",
      "Jazz -- artist details: 900 uniq artists: 900\n",
      "Blues -- artist details: 378 uniq artists: 378\n",
      "Reggae -- artist details: 461 uniq artists: 461\n",
      "Latino -- artist details: 1058 uniq artists: 1058\n",
      "Punk -- artist details: 268 uniq artists: 268\n",
      "Romance -- artist details: 1363 uniq artists: 1363\n",
      "Funk -- artist details: 608 uniq artists: 608\n",
      "Classical -- artist details: 3784 uniq artists: 3784\n",
      "Comedy -- artist details: 108 uniq artists: 108\n",
      "Kids -- artist details: 473 uniq artists: 473\n",
      "Gaming -- artist details: 1944 uniq artists: 1945\n"
     ]
    }
   ],
   "source": [
    "for cat in allCats:\n",
    "    print(cat['name'] + ' -- artist details: ' + str(len(cat['artist_details'])) + ' uniq artists: ' + str(len(cat['uniq_artists'])))"
   ]
  },
  {
   "cell_type": "code",
   "execution_count": 160,
   "metadata": {
    "collapsed": true,
    "deletable": true,
    "editable": true
   },
   "outputs": [],
   "source": [
    "with open('data/artist_details.json', 'w') as outfile:\n",
    "    json.dump(allCats, outfile)"
   ]
  },
  {
   "cell_type": "markdown",
   "metadata": {
    "deletable": true,
    "editable": true
   },
   "source": [
    "## Images"
   ]
  },
  {
   "cell_type": "code",
   "execution_count": 173,
   "metadata": {
    "collapsed": true,
    "deletable": true,
    "editable": true
   },
   "outputs": [],
   "source": [
    "deet = allCats[0]['artist_details'][0]"
   ]
  },
  {
   "cell_type": "code",
   "execution_count": 176,
   "metadata": {
    "collapsed": false,
    "deletable": true,
    "editable": true
   },
   "outputs": [
    {
     "data": {
      "text/plain": [
       "3"
      ]
     },
     "execution_count": 176,
     "metadata": {},
     "output_type": "execute_result"
    }
   ],
   "source": [
    "len(deet['images'])"
   ]
  },
  {
   "cell_type": "code",
   "execution_count": 184,
   "metadata": {
    "collapsed": false,
    "deletable": true,
    "editable": true
   },
   "outputs": [
    {
     "name": "stdout",
     "output_type": "stream",
     "text": [
      "544\n",
      "35\n"
     ]
    }
   ],
   "source": [
    "print(len(allCats[0]['artist_details']))\n",
    "more_images = [d for d in allCats[0]['artist_details'] if len(d['images']) < 1]\n",
    "\n",
    "print(len(more_images))"
   ]
  },
  {
   "cell_type": "code",
   "execution_count": null,
   "metadata": {
    "collapsed": true,
    "deletable": true,
    "editable": true
   },
   "outputs": [],
   "source": []
  },
  {
   "cell_type": "code",
   "execution_count": 180,
   "metadata": {
    "collapsed": false,
    "deletable": true,
    "editable": true
   },
   "outputs": [
    {
     "data": {
      "text/plain": [
       "{'external_urls': {'spotify': 'https://open.spotify.com/artist/5pKCCKE2ajJHZ9KAiaK11H'},\n",
       " 'followers': {'href': None, 'total': 9628464},\n",
       " 'genres': ['dance pop',\n",
       "  'pop',\n",
       "  'pop christmas',\n",
       "  'r&b',\n",
       "  'soul christmas',\n",
       "  'urban contemporary'],\n",
       " 'href': 'https://api.spotify.com/v1/artists/5pKCCKE2ajJHZ9KAiaK11H',\n",
       " 'id': '5pKCCKE2ajJHZ9KAiaK11H',\n",
       " 'images': [{'height': 667,\n",
       "   'url': 'https://i.scdn.co/image/7a14a83633fc6c00c3977d134397b7235f888cdf',\n",
       "   'width': 1000},\n",
       "  {'height': 427,\n",
       "   'url': 'https://i.scdn.co/image/ca67ea77cd79d6909c966870ae6f53297baba0bf',\n",
       "   'width': 640},\n",
       "  {'height': 133,\n",
       "   'url': 'https://i.scdn.co/image/5376e8a81d2849ed25cecc9b55789f91c7cb4269',\n",
       "   'width': 200},\n",
       "  {'height': 43,\n",
       "   'url': 'https://i.scdn.co/image/2bfed337f30cb4aedc26c39fc10fcce66a925b5b',\n",
       "   'width': 64}],\n",
       " 'name': 'Rihanna',\n",
       " 'popularity': 90,\n",
       " 'type': 'artist',\n",
       " 'uri': 'spotify:artist:5pKCCKE2ajJHZ9KAiaK11H'}"
      ]
     },
     "execution_count": 180,
     "metadata": {},
     "output_type": "execute_result"
    }
   ],
   "source": [
    "more_images[0]"
   ]
  },
  {
   "cell_type": "code",
   "execution_count": 187,
   "metadata": {
    "collapsed": false,
    "deletable": true,
    "editable": true
   },
   "outputs": [
    {
     "data": {
      "text/plain": [
       "('data/imgs/00000001.jpg', <http.client.HTTPMessage at 0x113d8f668>)"
      ]
     },
     "execution_count": 187,
     "metadata": {},
     "output_type": "execute_result"
    }
   ],
   "source": [
    "urllib.request.urlretrieve(\"http://www.gunnerkrigg.com//comics/00000001.jpg\", \"data/imgs/00000001.jpg\")"
   ]
  },
  {
   "cell_type": "code",
   "execution_count": 202,
   "metadata": {
    "collapsed": true,
    "deletable": true,
    "editable": true
   },
   "outputs": [],
   "source": [
    "\n",
    "def get_url(artist):\n",
    "    url = None\n",
    "    if len(artist['images']) > 0:\n",
    "        url = artist['images'][0]['url']\n",
    "    return url\n",
    "        \n",
    "    \n",
    "\n",
    "def download_images(category, artists):\n",
    "    \n",
    "    cat_dir = \"data/imgs/\" + category\n",
    "    if not os.path.isdir(cat_dir):\n",
    "        os.mkdir(cat_dir)\n",
    "    for artist in artists:\n",
    "        if len(artist['images']) > 0:\n",
    "            url = get_url(artist)\n",
    "            artist_id = artist['id']\n",
    "            path = cat_dir + \"/\" + artist_id + \".jpg\"\n",
    "            urllib.request.urlretrieve(url, path)\n",
    "            \n",
    "            \n",
    "    \n",
    "                                   \n",
    "            "
   ]
  },
  {
   "cell_type": "code",
   "execution_count": 195,
   "metadata": {
    "collapsed": false,
    "deletable": true,
    "editable": true
   },
   "outputs": [],
   "source": [
    "for cat in allCats:\n",
    "    download_images(cat['id'], cat['artist_details'])"
   ]
  },
  {
   "cell_type": "markdown",
   "metadata": {
    "deletable": true,
    "editable": true
   },
   "source": [
    "## Face Features"
   ]
  },
  {
   "cell_type": "code",
   "execution_count": 197,
   "metadata": {
    "collapsed": true,
    "deletable": true,
    "editable": true
   },
   "outputs": [],
   "source": [
    "interesting_ids = ['rock', 'indie_alt', 'pop', 'hiphop', 'rnb', 'country', 'folk_americana', 'metal', 'soul', 'punk']\n",
    "\n",
    "inCats = [cat for cat in allCats if cat['id'] in interesting_ids]"
   ]
  },
  {
   "cell_type": "code",
   "execution_count": 199,
   "metadata": {
    "collapsed": false,
    "deletable": true,
    "editable": true
   },
   "outputs": [
    {
     "name": "stdout",
     "output_type": "stream",
     "text": [
      "Pop -- artist details: 672 uniq artists: 673\n",
      "Rock -- artist details: 1098 uniq artists: 1098\n",
      "Indie -- artist details: 1172 uniq artists: 1172\n",
      "Hip Hop -- artist details: 1213 uniq artists: 1213\n",
      "RnB -- artist details: 690 uniq artists: 690\n",
      "Country -- artist details: 443 uniq artists: 443\n",
      "Folk & Americana -- artist details: 1044 uniq artists: 1044\n",
      "Metal -- artist details: 1209 uniq artists: 1209\n",
      "Soul -- artist details: 711 uniq artists: 711\n",
      "Punk -- artist details: 268 uniq artists: 268\n",
      "total artists: 8520\n"
     ]
    }
   ],
   "source": [
    "total_artists = 0\n",
    "for cat in inCats:\n",
    "    print(cat['name'] + ' -- artist details: ' + str(len(cat['artist_details'])) + ' uniq artists: ' + str(len(cat['uniq_artists'])))\n",
    "    total_artists += len(cat['artist_details'])\n",
    "print(\"total artists: \" + str(total_artists))"
   ]
  },
  {
   "cell_type": "code",
   "execution_count": 216,
   "metadata": {
    "collapsed": true,
    "deletable": true,
    "editable": true
   },
   "outputs": [],
   "source": [
    "with open('data/interesting_artist_details.json', 'w') as outfile:\n",
    "    json.dump(inCats, outfile)"
   ]
  },
  {
   "cell_type": "code",
   "execution_count": 214,
   "metadata": {
    "collapsed": true,
    "deletable": true,
    "editable": true
   },
   "outputs": [],
   "source": [
    "########### Python 3.2 #############\n",
    "\n",
    "\n",
    "M_KEY = '7223b90581904d7b834d2319e5087a2d'\n",
    "\n",
    "\n",
    "import http.client, urllib.request, urllib.parse, urllib.error, base64\n",
    "\n",
    "headers = {\n",
    "    # Request headers\n",
    "    'Content-Type': 'application/json',\n",
    "    'Ocp-Apim-Subscription-Key': M_KEY,\n",
    "}\n",
    "\n",
    "def get_faces(artist):\n",
    "    url = get_url(artist)\n",
    "    print(url)\n",
    "    if not url:\n",
    "        return {}\n",
    "\n",
    "    params = urllib.parse.urlencode({\n",
    "        # Request parameters\n",
    "        'returnFaceId': 'true',\n",
    "        'returnFaceLandmarks': 'true',\n",
    "        'returnFaceAttributes': 'age,gender,headPose,glasses,smile,facialHair',\n",
    "    })\n",
    "    \n",
    "    data = {}\n",
    "    #body = \"{\\\"url\\\": \"+ url + \"}\"\n",
    "    body = {\"url\": url}\n",
    "\n",
    "    try:\n",
    "        conn = http.client.HTTPSConnection('westus.api.cognitive.microsoft.com')\n",
    "        conn.request(\"POST\", \"/face/v1.0/detect?%s\" % params, json.dumps(body), headers)\n",
    "        response = conn.getresponse()\n",
    "        data = response.read()\n",
    "        print(data)\n",
    "        conn.close()\n",
    "    except Exception as e:\n",
    "        print(\"[Errno {0}] {1}\".format(e.errno, e.strerror))\n",
    "    return data\n",
    "\n",
    "####################################"
   ]
  },
  {
   "cell_type": "code",
   "execution_count": 206,
   "metadata": {
    "collapsed": false,
    "deletable": true,
    "editable": true
   },
   "outputs": [
    {
     "data": {
      "text/plain": [
       "{'external_urls': {'spotify': 'https://open.spotify.com/artist/1RyvyyTE3xzB2ZywiAwp0i'},\n",
       " 'followers': {'href': None, 'total': 2393474},\n",
       " 'genres': ['dwn trap', 'pop rap', 'rap', 'southern hip hop', 'trap music'],\n",
       " 'href': 'https://api.spotify.com/v1/artists/1RyvyyTE3xzB2ZywiAwp0i',\n",
       " 'id': '1RyvyyTE3xzB2ZywiAwp0i',\n",
       " 'images': [{'height': 640,\n",
       "   'url': 'https://i.scdn.co/image/73fe3d7939e5bf6f37bebc523b8d5b9df2989e6f',\n",
       "   'width': 640},\n",
       "  {'height': 320,\n",
       "   'url': 'https://i.scdn.co/image/b9116e3539344bfe22c360facb6b42741c5ab9dc',\n",
       "   'width': 320},\n",
       "  {'height': 160,\n",
       "   'url': 'https://i.scdn.co/image/6aab6547fff2b64e9a36d99544d6e6c2e921acf8',\n",
       "   'width': 160}],\n",
       " 'name': 'Future',\n",
       " 'popularity': 93,\n",
       " 'type': 'artist',\n",
       " 'uri': 'spotify:artist:1RyvyyTE3xzB2ZywiAwp0i'}"
      ]
     },
     "execution_count": 206,
     "metadata": {},
     "output_type": "execute_result"
    }
   ],
   "source": [
    "artist = inCats[0]['artist_details'][0]\n",
    "artist"
   ]
  },
  {
   "cell_type": "code",
   "execution_count": 215,
   "metadata": {
    "collapsed": false,
    "deletable": true,
    "editable": true
   },
   "outputs": [
    {
     "name": "stdout",
     "output_type": "stream",
     "text": [
      "https://i.scdn.co/image/73fe3d7939e5bf6f37bebc523b8d5b9df2989e6f\n",
      "b'[{\"faceId\":\"397abede-0a70-4954-8703-0a712ad04878\",\"faceRectangle\":{\"top\":294,\"left\":189,\"width\":157,\"height\":157},\"faceLandmarks\":{\"pupilLeft\":{\"x\":236.0,\"y\":334.7},\"pupilRight\":{\"x\":302.8,\"y\":337.2},\"noseTip\":{\"x\":268.9,\"y\":376.0},\"mouthLeft\":{\"x\":235.9,\"y\":410.7},\"mouthRight\":{\"x\":293.5,\"y\":413.9},\"eyebrowLeftOuter\":{\"x\":209.6,\"y\":321.4},\"eyebrowLeftInner\":{\"x\":254.8,\"y\":318.7},\"eyeLeftOuter\":{\"x\":225.0,\"y\":336.1},\"eyeLeftTop\":{\"x\":236.9,\"y\":330.4},\"eyeLeftBottom\":{\"x\":236.8,\"y\":340.6},\"eyeLeftInner\":{\"x\":247.5,\"y\":336.1},\"eyebrowRightInner\":{\"x\":283.3,\"y\":321.8},\"eyebrowRightOuter\":{\"x\":328.6,\"y\":327.7},\"eyeRightInner\":{\"x\":293.5,\"y\":338.1},\"eyeRightTop\":{\"x\":304.6,\"y\":331.9},\"eyeRightBottom\":{\"x\":304.4,\"y\":342.4},\"eyeRightOuter\":{\"x\":314.5,\"y\":338.2},\"noseRootLeft\":{\"x\":258.1,\"y\":338.0},\"noseRootRight\":{\"x\":278.6,\"y\":339.1},\"noseLeftAlarTop\":{\"x\":255.8,\"y\":361.4},\"noseRightAlarTop\":{\"x\":282.9,\"y\":365.1},\"noseLeftAlarOutTip\":{\"x\":246.5,\"y\":374.1},\"noseRightAlarOutTip\":{\"x\":290.9,\"y\":378.1},\"upperLipTop\":{\"x\":266.5,\"y\":403.6},\"upperLipBottom\":{\"x\":266.0,\"y\":411.4},\"underLipTop\":{\"x\":266.0,\"y\":416.7},\"underLipBottom\":{\"x\":266.2,\"y\":425.4}},\"faceAttributes\":{\"smile\":0.01,\"headPose\":{\"pitch\":0.0,\"roll\":2.5,\"yaw\":0.3},\"gender\":\"male\",\"age\":27.4,\"facialHair\":{\"moustache\":0.3,\"beard\":0.0,\"sideburns\":0.1},\"glasses\":\"Sunglasses\"}}]'\n"
     ]
    }
   ],
   "source": [
    "faces = get_faces(artist)"
   ]
  },
  {
   "cell_type": "code",
   "execution_count": null,
   "metadata": {
    "collapsed": true,
    "deletable": true,
    "editable": true
   },
   "outputs": [],
   "source": [
    "## Automated the rest of the analysis in ./get_faces.py"
   ]
  }
 ],
 "metadata": {
  "kernelspec": {
   "display_name": "Python 3",
   "language": "python",
   "name": "python3"
  },
  "language_info": {
   "codemirror_mode": {
    "name": "ipython",
    "version": 3
   },
   "file_extension": ".py",
   "mimetype": "text/x-python",
   "name": "python",
   "nbconvert_exporter": "python",
   "pygments_lexer": "ipython3",
   "version": "3.6.1"
  }
 },
 "nbformat": 4,
 "nbformat_minor": 2
}
