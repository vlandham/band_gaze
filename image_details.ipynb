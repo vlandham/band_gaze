{
 "cells": [
  {
   "cell_type": "code",
   "execution_count": 1,
   "metadata": {
    "collapsed": true
   },
   "outputs": [],
   "source": [
    "%matplotlib inline\n",
    "import sys\n",
    "import os\n",
    "import json\n",
    "import csv\n",
    "\n",
    "import matplotlib.pyplot as plt\n",
    "from IPython.display import Image\n",
    "\n",
    "from io import BytesIO\n",
    "import PIL\n",
    "\n",
    "from PIL import ImageDraw"
   ]
  },
  {
   "cell_type": "markdown",
   "metadata": {},
   "source": [
    "## Look at Artist Images\n",
    "\n",
    "First part here collects info on artist images. "
   ]
  },
  {
   "cell_type": "code",
   "execution_count": 2,
   "metadata": {
    "collapsed": true
   },
   "outputs": [],
   "source": [
    "def import_data(filename):\n",
    "    data = []\n",
    "    with open(filename) as json_data:\n",
    "        data = json.load(json_data)\n",
    "    return data"
   ]
  },
  {
   "cell_type": "code",
   "execution_count": 12,
   "metadata": {
    "collapsed": true
   },
   "outputs": [],
   "source": [
    "def get_image(cat, artist):\n",
    "    artist_img_file = os.path.join('.', 'data', 'imgs', cat['id'], artist['id'] + '.jpg')\n",
    "    if not os.path.isfile(artist_img_file):\n",
    "        return None\n",
    "    return PIL.Image.open(artist_img_file)"
   ]
  },
  {
   "cell_type": "code",
   "execution_count": 7,
   "metadata": {
    "collapsed": false
   },
   "outputs": [],
   "source": [
    "def save_csv(rows, filename):\n",
    "    with open(filename, 'w') as f:\n",
    "        w = csv.DictWriter(f, rows[0].keys())\n",
    "        w.writeheader()\n",
    "        w.writerows(rows)"
   ]
  },
  {
   "cell_type": "code",
   "execution_count": 10,
   "metadata": {
    "collapsed": true
   },
   "outputs": [],
   "source": [
    "def main(input_file):\n",
    "    cats = import_data(input_file)\n",
    "    rows = []\n",
    "    for cat in cats:\n",
    "        for artist in cat['artist_details']:\n",
    "            pimage = get_image(cat, artist)\n",
    "            if pimage:\n",
    "                row = {\n",
    "                    'cat': cat['id'],\n",
    "                    'artist': artist['id'],\n",
    "                    'face_num': len(artist['faces']),\n",
    "                    'img_width': pimage.width,\n",
    "                    'img_height': pimage.height,\n",
    "                }\n",
    "                rows.append(row)\n",
    "                \n",
    "    save_csv(rows, 'data/images.csv')"
   ]
  },
  {
   "cell_type": "code",
   "execution_count": 13,
   "metadata": {
    "collapsed": false
   },
   "outputs": [],
   "source": [
    "main('./data/faces.json')"
   ]
  },
  {
   "cell_type": "markdown",
   "metadata": {},
   "source": [
    "## Face Images\n",
    "\n",
    "This section aggregates info on the faces found"
   ]
  },
  {
   "cell_type": "code",
   "execution_count": 15,
   "metadata": {
    "collapsed": true
   },
   "outputs": [],
   "source": [
    "import glob"
   ]
  },
  {
   "cell_type": "code",
   "execution_count": 14,
   "metadata": {
    "collapsed": true
   },
   "outputs": [],
   "source": [
    "def get_image_from_file(filename):\n",
    "    if not os.path.isfile(filename):\n",
    "        return None\n",
    "    return PIL.Image.open(filename)"
   ]
  },
  {
   "cell_type": "code",
   "execution_count": 17,
   "metadata": {
    "collapsed": false
   },
   "outputs": [
    {
     "name": "stdout",
     "output_type": "stream",
     "text": [
      "10\n"
     ]
    }
   ],
   "source": [
    "\n",
    "START_DIR = './data/imgs_out'\n",
    "\n",
    "cat_dirs = glob.glob(os.path.join(START_DIR, \"*\"))\n",
    "\n",
    "print(len(cat_dirs))"
   ]
  },
  {
   "cell_type": "code",
   "execution_count": 21,
   "metadata": {
    "collapsed": false
   },
   "outputs": [
    {
     "name": "stdout",
     "output_type": "stream",
     "text": [
      "./data/imgs_out/country\n",
      "556\n",
      "./data/imgs_out/folk_americana\n",
      "1224\n",
      "./data/imgs_out/hiphop\n",
      "760\n",
      "./data/imgs_out/indie_alt\n",
      "1815\n",
      "./data/imgs_out/metal\n",
      "1521\n",
      "./data/imgs_out/pop\n",
      "871\n",
      "./data/imgs_out/punk\n",
      "689\n",
      "./data/imgs_out/rnb\n",
      "698\n",
      "./data/imgs_out/rock\n",
      "2376\n",
      "./data/imgs_out/soul\n",
      "800\n"
     ]
    }
   ],
   "source": [
    "rows = []\n",
    "for cat_dir in cat_dirs:\n",
    "    print(cat_dir)\n",
    "    cat_id = cat_dir.split(\"/\")[-1]\n",
    "    image_files = glob.glob(os.path.join(cat_dir, \"*.jpg\"))\n",
    "    \n",
    "    print(len(image_files))\n",
    "    for img in image_files:\n",
    "        artist_id = os.path.basename(img).split(\".\")[0].split(\"_\")[0]\n",
    "        \n",
    "        pimage = get_image_from_file(img)\n",
    "        row = {\n",
    "            \"cat_id\": cat_id,\n",
    "            \"artist_id\": artist_id,\n",
    "            \"img_width\": pimage.width,\n",
    "            \"img_height\": pimage.height\n",
    "            \n",
    "        }\n",
    "        rows.append(row)"
   ]
  },
  {
   "cell_type": "code",
   "execution_count": 22,
   "metadata": {
    "collapsed": true
   },
   "outputs": [],
   "source": [
    "save_csv(rows, 'data/face_sizes.csv')"
   ]
  }
 ],
 "metadata": {
  "kernelspec": {
   "display_name": "Python 3",
   "language": "python",
   "name": "python3"
  },
  "language_info": {
   "codemirror_mode": {
    "name": "ipython",
    "version": 3
   },
   "file_extension": ".py",
   "mimetype": "text/x-python",
   "name": "python",
   "nbconvert_exporter": "python",
   "pygments_lexer": "ipython3",
   "version": "3.6.1"
  }
 },
 "nbformat": 4,
 "nbformat_minor": 2
}
